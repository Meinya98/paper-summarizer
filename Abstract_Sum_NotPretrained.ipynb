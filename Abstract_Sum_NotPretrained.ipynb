{
 "cells": [
  {
   "cell_type": "markdown",
   "metadata": {},
   "source": [
    "## Abstract Summarizer from Research Paper\n",
    "#### Summarize abstract, currently focused on biological science paper"
   ]
  },
  {
   "cell_type": "markdown",
   "metadata": {},
   "source": [
    "1. Import packages"
   ]
  },
  {
   "cell_type": "code",
   "execution_count": 16,
   "metadata": {},
   "outputs": [
    {
     "name": "stderr",
     "output_type": "stream",
     "text": [
      "[nltk_data] Downloading package stopwords to C:\\Users\\HP Elitebook\n",
      "[nltk_data]     X360 i5\\AppData\\Roaming\\nltk_data...\n",
      "[nltk_data]   Package stopwords is already up-to-date!\n",
      "[nltk_data] Downloading package punkt to C:\\Users\\HP Elitebook X360\n",
      "[nltk_data]     i5\\AppData\\Roaming\\nltk_data...\n",
      "[nltk_data]   Package punkt is already up-to-date!\n",
      "[nltk_data] Downloading package wordnet to C:\\Users\\HP Elitebook X360\n",
      "[nltk_data]     i5\\AppData\\Roaming\\nltk_data...\n",
      "[nltk_data]   Package wordnet is already up-to-date!\n",
      "[nltk_data] Downloading package omw-1.4 to C:\\Users\\HP Elitebook X360\n",
      "[nltk_data]     i5\\AppData\\Roaming\\nltk_data...\n",
      "[nltk_data]   Package omw-1.4 is already up-to-date!\n"
     ]
    },
    {
     "data": {
      "text/plain": [
       "True"
      ]
     },
     "execution_count": 16,
     "metadata": {},
     "output_type": "execute_result"
    }
   ],
   "source": [
    "import requests\n",
    "from bs4 import BeautifulSoup\n",
    "import pandas as pd\n",
    "import json\n",
    "import re\n",
    "import tensorflow as tf\n",
    "from tensorflow.keras.preprocessing.text import Tokenizer\n",
    "from tensorflow.keras.preprocessing.sequence import pad_sequences\n",
    "from sklearn.model_selection import train_test_split\n",
    "import numpy as np\n",
    "import nltk\n",
    "from nltk.corpus import stopwords\n",
    "nltk.download(\"stopwords\")\n",
    "from nltk.tokenize import word_tokenize\n",
    "nltk.download(\"punkt\")\n",
    "from nltk.stem import WordNetLemmatizer\n",
    "nltk.download(\"wordnet\")\n",
    "nltk.download('omw-1.4')"
   ]
  },
  {
   "cell_type": "markdown",
   "metadata": {},
   "source": [
    "2. Scrape data for training purpose from PubMed"
   ]
  },
  {
   "cell_type": "code",
   "execution_count": 2,
   "metadata": {},
   "outputs": [],
   "source": [
    "# Function for scraping pubmed using the pubmed API\n",
    "def get_pubmed_abstracts(query, results=5):\n",
    "    base_url = \"https://eutils.ncbi.nlm.nih.gov/entrez/eutils/\"\n",
    "    # Search for the paper ID\n",
    "    search_url = f\"{base_url}esearch.fcgi?db=pubmed&term={query}&retmax={results}&retmode=json\"\n",
    "    search_response = requests.get(search_url).json()\n",
    "    ids = search_response.get(\"esearchresult\", {}).get(\"idlist\", [])\n",
    "\n",
    "    # Extract abstracts using ID\n",
    "    abstracts = []\n",
    "    for id in ids:\n",
    "        fetch_url = f\"{base_url}efetch.fcgi?db=pubmed&id={id}&retmode=xml\"\n",
    "        fetch_response = requests.get(fetch_url).text\n",
    "        soup = BeautifulSoup(fetch_response, \"xml\")\n",
    "        abstract = soup.find(\"AbstractText\")\n",
    "        if abstract:\n",
    "            abstracts.append({\"PMID\": id, \"Abstract\": abstract.text})\n",
    "    return abstracts    "
   ]
  },
  {
   "cell_type": "code",
   "execution_count": 33,
   "metadata": {},
   "outputs": [
    {
     "name": "stdout",
     "output_type": "stream",
     "text": [
      "\n",
      "Abstract 1 (PMID 39921843):\n",
      "Influenza A virus (IAV) remains a significant public health concern due to its annual epidemics and potential for global pandemics. Despite the availability of countermeasures such as vaccines and antiviral treatments, their effectiveness is often questioned due to the emergence of novel strains with antiviral resistance and the variable efficacy of influenza vaccines compared to other vaccines. Traditionally, influenza vaccination strategies have focused on matrix, neuraminidase, and nucleoproteins. In this study, considering the crucial roles of HA and RdRp (PA, PB1, and PB2) of Influenza A, a reverse vaccinology approach is put forth in designing a possible promising antigenic protein toward the development of vaccines against H1N1 viruses. With the development of immunoinformatics approach, one can design/construct potential candidates for vaccine formulation against IAV with the epitope segments identified based on B- and T-cell recognition linked via adjuvants like EAAAK, GPGPG, and AAY linkers. Computational assessments of physicochemical properties, antigenicity, immunogenicity, allergenicity, and toxicity predictions, conducted to evaluate the potential of designed vaccine construct, indicated high antigenicity and potential interactions with immune receptors. Molecular docking of the vaccine construct with human immune receptors (MHCI, MHCII, TLR4, TLR7, and TLR8) followed by molecular dynamics simulations demonstrated stable dynamics with strong binding affinity. The computational immune response modeling with multiple dosages suggested significant immune activation by this construct against IAV. In essence, these findings highlight the potential immune property of the vaccine construct, and put forth the need of thorough preclinical assessments in transforming this construct as a vaccine against the challenging IAV pathogens.\n",
      "\n",
      "\n",
      "Abstract 2 (PMID 39921828):\n",
      "Lumpy skin disease (LSD) is a highly contagious and fatal transboundary viral disease of cattle and water buffaloes caused by the Lumpy Skin Disease virus (LSDV) which belongs to the genus Capripoxvirus of the Poxviridae family. The disease causes huge economic impact and has been listed as a notifiable disease by World Organization for Animal Health. We present the molecular epidemiology of an LSD outbreak, the first-ever outbreak of the disease in the Union Territory (UT) of Jammu and Kashmir, India; a region lying in Northern Himalayas. During the outbreak, 1661 samples were collected from clinically affected, in-contact cattle as well as apparently healthy animals and screened for LSDV by qPCR. From these 1661 samples, 643 (38.7%) were found positive. Five LSDV-positive samples were randomly selected and the GPCR gene was amplified, cloned and sequenced. A 12-nucleotide deletion was observed in the GPCR gene when compared to the 2019 Indian LSDV isolate from Odhisa, India. Based on the data obtained by qPCR analysis, the occurrence of LSD was determined with respect to the age, sex and breed of the animals. Furthermore, ticks collected from the affected animals and flies on the farm were identified and were found positive for LSDV.\n",
      "\n",
      "\n",
      "Abstract 3 (PMID 39921799):\n",
      "Junín virus (JUNV) is a mammarenavirus that causes Argentine hemorrhagic fever (AHF). Mammarenaviruses are RNA viruses with an ambisense, bi-segmented genome containing four genes encoding the glycoproteins (GPC), the nucleoprotein (NP), the RNA polymerase (L) and the matrix protein (Z). Several JUNV strains with different pathogenicity have already been fully sequenced. We performed a comprehensive and comparative analysis of their genetic differences and phylogeny, focusing on the synonymous codon usage patterns of the JUNV proteins. We found a nucleotide identity of > 95% between strains, with significant differences between all genes for GC% and Z and L genes for GC3%. Analysis of relative synonymous codon usage showed that codons AGA and AGG of the amino acid arginine were overrepresented, while CGC, CGA and CGG of arginine, GCG of alanine, ACG of threonine, CCG of proline and TCG of serine were underrepresented in the GPC, NP and L genes. A weak codon usage bias was observed, with GPC having a significantly higher effective number of codons. Moreover, selection could explain at least 83% of the observed bias. Analysis of the codon adaptation index revealed a better adaptation for B cells and kidney and a lower one for endothelial cells. We also observed a possible reassortment event between the MC2 and Romero strains. This work provides a new perspective on the genetic diversity of JUNV strains, which may contribute to the development of new approaches for future research into the evolutionary model, origin and host adaptation of JUNV causing AHF.\n",
      "\n",
      "\n",
      "Abstract 4 (PMID 39921690):\n",
      "We recently discovered a novel member of the family Arteriviridae, hedgehog arterivirus 1 (HhAV-1), in the brains of hedgehogs with fatal encephalitis. In this study, we classified this virus and investigated its intrahost genomic diversity using next-generation sequencing. We sequenced HhAV-1 genomes from specimens from seven hedgehogs (two males and five females) with signs of encephalitis that were collected in Buckinghamshire, Gloucestershire, and Cambridgeshire, England, and had died or been euthanised between 2013 and 2024. Analysis of the intrahost populations of these seven HhAV-1 isolates and a previously described isolate revealed the presence of single-nucleotide polymorphisms (SNPs), which were most frequent in open reading frames 5, 6, and 7, encoding glycoprotein 5, the membrane protein, and the nucleocapsid protein. Pairwise comparisons of the eight HhAV-1 variants showed that the nucleotide sequence identity values in their combined complete coding sequences ranged from 76.2% to 100%. The eight HhAV-1 variants also shared at least 82.8% amino acid sequence identity in five domains that are involved in replication and are used for the classification of nidoviruses: 3CLpro, NiRAN, RdRp, ZBD, and HEL1. In a replicase-based phylogenetic tree of members of the family Arteriviridae, the HhAV-1 variants formed a sister cluster to African pouched rat arterivirus. A DEmARC-based pairwise distance analysis indicated that these viruses may comprise a new species, for which we propose the name \"Xiarterivirus erinaceid\", in a new genus in the subfamily Heroarterivirinae.\n",
      "\n",
      "\n",
      "Abstract 5 (PMID 39921679):\n",
      "Lipid transfer proteins (LTPs) are small cysteine-rich soluble proteins that affect flower and seed development, cuticular wax deposition, and biotic and abiotic stress responses. We isolated an LTP-encoding gene homologous to LTPVAS in Nicotiana benthamiana and designated it LTP-VASCULAR TISSUE SIZE (NbLTPVAS). This gene was expressed in seeds, leaves, roots, and stems. Additionally, NbLTPVAS expression was induced by hypersensitive response (HR)-inducing agents. Cell death was accelerated and the phytopathogenic bacterial population decreased significantly in NbLTPVAS-silenced plants infected with the incompatible Ralstonia solanacearum strain 8107. The expression of HR marker gene hin1 in NbLTPVAS-silenced plants was markedly induced by R. solanacearum 8107, indicative of the acceleration of HR. HR cell death in NbLTPVAS-silenced plants was also promoted by the Agrobacterium-mediated expression of HR-inducing proteins including INF1, AvrA, and PopP1. Excessive production of reactive oxygen species (ROS) was detected in NbLTPVAS-silenced plants. The expression of NbrbohB (encoding a ROS-generating enzyme) also increased in NbLTPVAS-silenced plants, but the expression of the antioxidant enzyme-encoding genes NbSOD and NbAPX decreased. The silencing of both NbLTPVAS and NbrbohB adversely affected HR induction. Moreover, NbLTPVAS was secreted into the intercellular washing fluid. The transient expression of the full-length NbLTPVAS induced the expression of antioxidant genes, attenuated ROS production, and suppressed the induction of HR cell death. This is the first functional analysis of LTPVAS in plant-microbe interactions. Our study provides novel insights into the role of NbLTPVAS as a negative regulator of HR via ROS homeostasis in N. benthamiana.\n",
      "\n",
      "\n",
      "Abstract 6 (PMID 39921615):\n",
      "Mpox, is a zoonotic disease caused by the monkeypox virus and is primarily endemic to Africa. As countries gradually stop smallpox vaccination, resistance to the smallpox virus is declining, increasing the risk of infection with mpox and other viruses. On 14 August 2024, the World Health Organization announced that the spread of mpox constituted a public health emergency of international concern. Mpox's transmission routes and symptoms are complex and pose new challenges to global health. Several vaccines (such as ACAM2000, JYNNEOS, LC16m8, and genetically engineered vaccines) and antiviral drugs (such as tecovirimat, brincidofovir, cidofovir, and varicella immunoglobulin intravenous injection) have been developed and marketed to prevent and control this disease. This review aims to introduce the epidemic situation, epidemiological characteristics, physiological and pathological characteristics, and preventive measures for mpox in detail, to provide a scientific basis for the prevention and control of mpox viruses worldwide.\n",
      "\n",
      "\n",
      "Abstract 7 (PMID 39921609):\n",
      "Human adenoviruses (HAdVs) cause diverse disease presentations as pathogens and are also used as viral vectors for vaccines and gene therapy products. Pre-existing adaptive immune responses to HAdV are known to influence symptom severity, viral clearance and the success of viral vectored products. Of note, approximately 50% of the UK's adult population has received at least one dose of a chimpanzee adenovirus vectored SARS-CoV-2 vaccine (ChAdOx1) since January 2021. We used FluoroSpot analysis to quantify the interferon-gamma (IFNγ) and interleukin-2 (IL2) responses of healthy blood donors to HAdV species A, B, C, D and F and chimpanzee adenovirus Y25, related to HAdV species E. We find that cellular immune responses to multiple species of human adenovirus are ubiquitous among healthy adult blood donors and that stimulating PBMC with whole hexon peptide libraries induces a significantly greater IFNγ and IL2 response than using selected peptide pools alone. We then compared the cellular immune responses of ChAdOx1 recipients and control donors using PBMC collected in 2021 and found that homotypic and heterotypic IFNγ responses were significantly boosted in ChAdOx1 recipients but not controls. Finally, we show that in PBMC derived from blood donors, IFNγ responses are made to both conserved and variable regions of the hexon protein. Future vaccination campaigns using adenoviral vectored vaccines will need to account for the pre-existing exposure of recipients to both circulating HAdVs and vaccines such as ChAdOx1, which convey polyfunctional antiviral T cell responses to even low seroprevalence HAdV types.\n",
      "\n",
      "\n",
      "Abstract 8 (PMID 39921608):\n",
      "Influenza A virus (IAV) remains a major global public health threat, especially with the emergence of antiviral resistance, highlighting the urgent need for novel therapeutics. Alkaloids are known for their antiviral properties, and chemical synthesis has become a key strategy in developing new alkaloid compounds. In this study, we synthesized a series of novel alkaloids using the Ugi reaction and assessed their antiviral potential and mechanisms. Through screening and validation, Zj6-11 was identified as a promising compound that effectively inhibits IAV infection in vitro. Molecular docking and binding affinity assays showed that Zj6-11 binds with high affinity to IAV nucleoprotein (NP) and inhibits its interaction with nucleic acids. Further, in vitro nuclear translocation assays confirmed that Zj6-11 suppresses NP nuclear import. Mechanistically, Zj6-11 significantly inhibits IAV-induced apoptosis and mitigates mitochondrial membrane potential dysfunction. Zj6-11 also inhibits cytochrome c release, reduces the expression of cleaved Caspase-9 and Caspase-3, and suppresses IAV-induced apoptosis-inducing factor (Aif) expression, suppressing IAV-induced mitochondrial apoptosis. More importantly, Zj6-11 plays a crucial role in protecting mice from IAV infection and reducing IAV pathogenicity. Our study provides mechanistic insights into Zj6-11's control of IAV infection in vitro and in vivo, offering new perspectives for antiviral therapy development.\n",
      "\n",
      "\n",
      "Abstract 9 (PMID 39921602):\n",
      "The lack of effective antiviral treatments for enteroviruses, including human enterovirus A71 (EV-A71), have resulted in an immense global healthcare burden associated with hand-foot-and-mouth disease (HFMD). Rocaglates and aglains belong to a family of compounds produced by Aglaia genus plants. Since the initial discovery of rocaglates in 1982, various rocaglates and aglains have been synthesized and extensively studied mainly as anticancer agents. Here, we report the discovery of a novel aglain derivative as a potential EV-A71 inhibitor. From an immunofluorescence-based phenotypic screen of a library of 296 rocaglate and aglain derivatives, we identified a lead aglain which effectively suppressed EV-A71 replication by 2.3 log fold at a non-cytotoxic concentration, with a host cell CC50 of 21.78 µM, an EV-A71 infection EC50 of 3.57 µM, and a selectivity index of 6.1. Further validation revealed inhibition of EV-A71 across multiple human cell types and a pan-enterovirus inhibitory spectrum against other enteroviruses. Subsequent mechanistic investigation revealed interference with EV-A71 intracellular post-entry events including viral RNA transcription and translation. Findings from this study have established a strong foundation for development of aglain scaffolds as much needed antiviral agents for HFMD, paving the way for future medicinal chemistry optimization and in vivo studies.\n",
      "\n",
      "\n",
      "Abstract 10 (PMID 39921601):\n",
      "Understanding how interpersonal interactions and immunological factors shape SARS-CoV-2 transmission in households is crucial for designing control measures. We developed a Bayesian data augmentation transmission model to evaluate the effects of isolation, parental care, and vaccine-induced immunity on Delta variant transmission from the follow-up of 1,093 Israeli households (July-August 2021). Among the 2883 household contacts, 1096 (38%) were infected. Children were 38% (CI: 7-81) more likely to be infected than adults. Isolation measures reduced transmission by 52% (CI: 46-57). Transmission was 39% (CI: 11-76) higher between children and adult females than males. Vaccine effectiveness was 78% (CI: 54-90), 85% (CI: 70-94), and 73% (CI: 49-88) for one, two, and three doses of recent vaccination (< 90 days), respectively but dropped to 18% (CI: (-6)-36) for two doses administered more than 90 days ago. Household member interactions significantly shaped transmission, and isolation measures effectively reduced transmission.\n",
      "\n",
      "\n",
      "Abstract 11 (PMID 39921537):\n",
      "Respiratory syncytial virus (RSV) is an important cause of bronchiolitis and pneumonia in children globally. This study aimed to incorporate new data to update estimates of RSV burden in children through 5 years of age in Western Pacific and Southeast Asia Regions.\n",
      "\n",
      "\n",
      "Abstract 12 (PMID 39921518):\n",
      "Movement disorders after dengue virus (DENV) infection have been increasingly recognized. We aimed to synthesize the clinical and paraclinical characteristics, treatment responses, and outcomes of these neurologic complications. We systematically reviewed PubMed, Embase, Scopus, and LILACS databases up to September 2023 following a published protocol. We identified 73 cases of DENV-induced movement disorders. Cerebellar ataxia was the most common, followed by parkinsonism, opsoclonus-myoclonus-ataxia syndrome, and dystonia. Movement disorders typically developed within 14 days of DENV infection and were associated with a range of neurological symptoms, including cognitive impairment and psychiatric disturbances. Neuroimaging studies frequently showed abnormalities in the basal ganglia and brainstem. Treatment varied depending on the specific movement disorder and included corticosteroids, intravenous immunoglobulin, and symptomatic medications. Whereas a handful of cases met the criteria for acute encephalitis, many lacked sufficient data to establish a definitive diagnosis. Para-infectious and postinfectious immune-mediated movement disorders were also reported. A rare case of chronic progressive panencephalitis due to DENV infection highlights the potential for long-term neurological consequences. Other DENV-related complications, such as stroke, pituitary apoplexy, subacute thyroiditis, and metabolic disturbances, can also cause movement disorders. We emphasize the importance of recognizing the diverse neurological manifestations of DENV infection and the need for further research to improve our understanding of the underlying mechanisms and optimize treatment strategies. We propose a more rigorous approach to determining the causality between infection and movement disorder, demanding stronger evidence beyond mere association and advocating for targeted research to fill the existing knowledge gaps. © 2025 International Parkinson and Movement Disorder Society.\n",
      "\n",
      "\n",
      "Abstract 13 (PMID 39921425):\n",
      "Further phytochemical investigation on the twigs of Trichilia connaroides led to the isolation of nine limonoids (1, 2, and 5-11), one 3,4-seco-homo-cycloartane (3), and two steroids (4 and 12). The structures of these obtained isolates were established by means of detailed analyses of their extensive spectroscopic information and ECD calculations, four of them were elucidated as undescribed compounds (1-4). It is noted that an unprecedented 7-oxabicyclo[2.2.1]-heptane moiety in trichilitin M (1) was proposed by the linkage of C-11 and C-14 via an oxygen atom.  All compounds were evaluated for their anti-tobacco mosaic virus (TMV) activities by the conventional half-leaf method and RT-PCR assays. Compared with the positive control ningnanmycin, compounds 1, 6, 7, and 11 showed signiﬁcant anti-TMV biological activities. Futhermore, qRT-PCR assays suggested that the expression level of the TMV CP gene in inoculated and systemic K326 leaves treated by both 1 and 6, was significantly lower than that for the control group. More importantly, compounds 1 and 6 could not only inhibit the accumulation of TMV CP gene, but also enhance the host plant's resistance to TMV infection.\n",
      "\n",
      "\n",
      "Abstract 14 (PMID 39921398):\n",
      "Viruses exert a profound influence on both human health and the global ecosystem, yet they remain largely unexplored. Precise taxonomic classification of viral sequences is essential for discovering novel viruses, elucidating their functions, and assessing their implications for public health and environmental monitoring. Traditional taxonomy methods based on genome references are limited by the vast number of unexplored viruses, rapid mutation rates, and high genetic diversity. Additionally, highly imbalanced species distribution and significant variances in inter-species genomic distances across taxonomic units pose challenges to classifier training. Conceptualizing genomic sequences as sentences in a natural language, large language models provide novel approaches for extracting intrinsic viral genome characteristics. In this study, we introduce ViTax, a virus taxonomy classification tool powered by HyenaDNA, a large language foundation model for long-range genomic sequences at single nucleotide resolution. ViTax integrates supervised prototypical contrastive learning to address the highly imbalanced distributions across various taxonomic clades and demonstrates superior performance to current leading methods in virus taxonomy, particularly significant for long sequences. Moreover, ViTax designs a belief mapping tree using the Lowest Common Ancestor algorithm to adaptively assign a sequence to the lowest taxonomy clade with confidence. For the open-set problem, where sequences belong to novel and unexplored genera, ViTax can adaptively assign them to a higher level of known taxonomy with outstanding performance. These capabilities make ViTax a robust tool for advancing the accuracy and reliability of viral taxonomy classification. The code is available at https://github.com/Ying-Lab/ViTax.\n",
      "\n",
      "\n",
      "Abstract 15 (PMID 39921395):\n",
      "During the autumn/winter respiratory syncytial virus (RSV) epidemics, bacterial co-infection is common and affects the disease severity. We aimed to understand the relationship between RSV-bacterial co-infections and clinical severity since the RSV seasonality change after COVID-19 pandemic. We conducted a prospective, sentinel surveillance study at 20 sites in Portugal in children under 2 years hospitalized with RSV, between April 21 and January 23. Effect of co-infection with potentially pathogenic bacteria (PPB) on the length of hospitalization and disease severity was investigated using multivariate linear and log-binomial regression models. Among 678 RSV hospitalizations, 67.4% occurred in children under 6 months and 15.3% in preterm; 20.4% tested positive for PPB; median length of hospitalization was 5 days (IQR: 3-7days). Children coinfected with PPB had a higher rate of ICU admission (29.7% vs. 3.5%, p < 0.001), resulting in more prolonged hospitalizations (7 vs. 5 days, p < 0.001) and a 13-fold risk of having severe disease (RR: 13.2, 95% CI:7.3-23.9). RSV-bacterial co-infection was associated with increased length of hospitalization and severe illness during off-season epidemics. This risk is probably overestimated, as laboratory testing for bacterial infections is usually higher in severely ill-appearing children. Measures to prevent outgrowth of pathogenic bacteria within the respiratory tract should be discussed.\n",
      "\n",
      "\n",
      "Abstract 16 (PMID 39921385):\n",
      "In recent years, coxsackievirus A6 (CVA6) has surpassed enterovirus A71 to become the main pathogen causing severe Hand, Foot, and Mouth disease (HFMD) in China with a substantial disease burden. However, there is currently no commercial CVA6 vaccine. The D3a genotype of CVA6 is the predominant genotype in China. In this study, virus-like particles (VLPs) and mRNA vaccines based on the CVA6 sub-genotype D3a were successfully developed. The immunogenicity and protective effects of the VLP of CVA6 combined with Al(OH)3 and CpG adjuvant indicated that VLP-induced neutralizing antibodies against three CVA6 sub-genotype (D2, D3a, and D3b) strains in Institute of Cancer Research (ICR) mice, and the combination of the two adjuvants enhanced cellular immunity. Passive immunization with serum from mice immunized with VLPs protected suckling mice against CVA6 lethal challenge in both antiserum transfer and maternal immunization experiments. The immunogenicity and protective effects of the mRNA vaccine of CVA6 indicate that it induces robust T-cell immunity. T-cell immunity was found to cross-protect against coxsackievirus A10 infection in mice. This is the first trial of a CVA6 mRNA vaccine worldwide and the first comparison of the immunogenicity and protective effects of VLP and mRNA vaccines based on D3a CVA6. The study provides a theoretical basis for the development of enteroviruses vaccines and the formulation of immunization strategies.\n",
      "\n",
      "\n",
      "Abstract 17 (PMID 39921383):\n",
      "This study aims to identify the risk factors associated with clinical outcomes and the proteomic changes in organs related to fatal SARS-CoV-2 infection within the super-elderly population. This retrospective analysis included all elderly individuals with COVID-19 admitted to the Second Medical Center of PLA General Hospital from December 2022 to January 2023. The follow-up period ended on March 30, 2023. During this time, epidemiological, demographic, laboratory, and outcome data were analyzed descriptively. Proteomic sequencing was performed on super-elderly patients who died from COVID-19 at different stages of the disease. A total of 352 elderly COVID-19 patients, with a mean age of 89.84 ± 8.54 years, were included in this study. During a median follow-up period of 98 days, 79 patients died. Deceased patients were older and more likely to have cardiovascular and cerebrovascular diseases, with a lower prevalence of lipid-lowering therapy. The number of deaths in the acute and post-acute phases were 34 and 45, respectively. Proteomics data suggest that the immune systems of patients who died in the acute phase underwent a more rapid and severe onslaught. Patients in the post-acute phase showed higher levels of viral genome replication and a more robust immune response. However, the over-activation of the immune system led to systemic organ dysfunction. Effective management of comorbidities may improve the prognosis of COVID-19 in super-elderly patients. The continuous replication of the SARS-CoV-2 virus and its subsequent impact on the immune system are critical determinants of survival time in this demographic.\n",
      "\n",
      "\n",
      "Abstract 18 (PMID 39921375):\n",
      "Human immunodeficiency virus is associated with the development of various aggressive non-Hodgkin B-cell lymphomas (NHL). Despite this, people living with HIV (PLWH) are often excluded from clinical trials. Here we analyze the change in clinical trial exclusion among PLWH resulting from multilateral advocacy efforts since 2017.\n",
      "\n",
      "\n",
      "Abstract 19 (PMID 39921366):\n",
      "Asian and pacific region countries are considered to be high risk countries for Human Immunodeficiency Viruses (HIV). There is little literature quantifying the relationship between education of HIV/AIDS and its principal socioeconomic determinants through a spatial analysis. The purpose of this study was to assess the knowledge and awareness about HIV among the women in Thailand, and its direct and indirect association with sociodemographic factors including sexual education, level of education, area of living and wealth index through a structural equation modelling approach.\n",
      "\n",
      "\n",
      "Abstract 20 (PMID 39921355):\n",
      "Chronic rhinosinusitis with nasal polyps (CRSwNP) is a common disease in which inflammatory responses to exogenic stressors, such as viral infections, has been recognised. The role of viruses in CRSwNP pathogenesis is unclear.\n",
      "\n"
     ]
    }
   ],
   "source": [
    "# Extract and store\n",
    "query = \"virus\" # Changeable\n",
    "abstracts = get_pubmed_abstracts(query, results=20)\n",
    "\n",
    "for i, entry in enumerate(abstracts):\n",
    "    print(f\"\\nAbstract {i+1} (PMID {entry['PMID']}):\\n{entry['Abstract']}\\n\")\n",
    "\n",
    "# Save as JSON\n",
    "with open(\"abstracts.json\", \"w\") as f:\n",
    "    json.dump(abstracts, f, indent=4)"
   ]
  },
  {
   "cell_type": "code",
   "execution_count": 5,
   "metadata": {},
   "outputs": [],
   "source": [
    "# (RUN THIS CELL ONLY ONCE)\n",
    "# Store to DataFrame \n",
    "df_abstracts = pd.DataFrame(abstracts)"
   ]
  },
  {
   "cell_type": "code",
   "execution_count": 34,
   "metadata": {},
   "outputs": [],
   "source": [
    "# (RUN AS MANY AS YOU WANT AFTER SCRAPING ADDITIONAL DATA)\n",
    "# Create additional dataframe for new data\n",
    "new_abstracts = pd.DataFrame(abstracts)\n",
    "\n",
    "# Append additional scraping data\n",
    "df_abstracts = pd.concat([df_abstracts, new_abstracts], ignore_index=True)"
   ]
  },
  {
   "cell_type": "code",
   "execution_count": 35,
   "metadata": {},
   "outputs": [
    {
     "name": "stdout",
     "output_type": "stream",
     "text": [
      "       PMID                                           Abstract\n",
      "0  39921842  Aberrant activation of the Wnt/β-catenin signa...\n",
      "1  39921807  Cancer cells can modulate the expression of ma...\n",
      "2  39921789  Colorectal cancer (CRC) is a molecularly heter...\n",
      "3  39921761  Ingenol mebutate (IM), a diterpene ester deriv...\n",
      "4  39921753  Metastasis and chemoresistance are often major...\n",
      "<class 'pandas.core.frame.DataFrame'>\n",
      "RangeIndex: 155 entries, 0 to 154\n",
      "Data columns (total 2 columns):\n",
      " #   Column    Non-Null Count  Dtype \n",
      "---  ------    --------------  ----- \n",
      " 0   PMID      155 non-null    object\n",
      " 1   Abstract  155 non-null    object\n",
      "dtypes: object(2)\n",
      "memory usage: 2.5+ KB\n",
      "None\n",
      "PMID        0\n",
      "Abstract    0\n",
      "dtype: int64\n",
      "duplicated data:  26\n"
     ]
    }
   ],
   "source": [
    "# Check the dataframe\n",
    "print(df_abstracts.head())\n",
    "print(df_abstracts.info())\n",
    "print(df_abstracts.isnull().sum())\n",
    "# Check duplicate\n",
    "duplicated_data = df_abstracts.duplicated().sum()\n",
    "print(\"duplicated data: \",duplicated_data)"
   ]
  },
  {
   "cell_type": "code",
   "execution_count": 36,
   "metadata": {},
   "outputs": [
    {
     "name": "stdout",
     "output_type": "stream",
     "text": [
      "duplicated data:  0\n"
     ]
    }
   ],
   "source": [
    "# Delete duplicate\n",
    "duplicate = df_abstracts[df_abstracts.duplicated(subset=[\"PMID\"], keep=\"first\")].index\n",
    "df_abstracts = df_abstracts.drop(index=duplicate).reset_index(drop=True)\n",
    "# Check duplicate\n",
    "duplicated_data = df_abstracts.duplicated().sum()\n",
    "print(\"duplicated data: \",duplicated_data)"
   ]
  },
  {
   "cell_type": "code",
   "execution_count": 37,
   "metadata": {},
   "outputs": [],
   "source": [
    "# Save as csv\n",
    "df_abstracts.to_csv(\"abstracts.csv\", index=False)"
   ]
  },
  {
   "cell_type": "markdown",
   "metadata": {},
   "source": [
    "3. Preprocessing"
   ]
  },
  {
   "cell_type": "code",
   "execution_count": 3,
   "metadata": {},
   "outputs": [],
   "source": [
    "# Load Data\n",
    "df_data = pd.read_csv(\"abstracts.csv\")"
   ]
  },
  {
   "cell_type": "code",
   "execution_count": 12,
   "metadata": {},
   "outputs": [],
   "source": [
    "# Initialize stopwords and lemmatizer\n",
    "stopwords = set(stopwords.words(\"english\"))\n",
    "lemmatizer = WordNetLemmatizer()"
   ]
  },
  {
   "cell_type": "code",
   "execution_count": 13,
   "metadata": {},
   "outputs": [],
   "source": [
    "# Function for preprocess\n",
    "def preprocess(text):\n",
    "    text = text.lower() # convert to lowercase\n",
    "    text = re.sub(r'[^a-zA-Z0-9%<>/=+\\-\\^.,\\s]', '', text) # remove special characters and numbers but keep scientific terms, symbols, numbers\n",
    "    tokens = word_tokenize(text) # tokenize text\n",
    "    processed_tokens = [lemmatizer.lemmatize(word) for word in tokens if word not in stopwords] # remove stopwords and apply lemmatization\n",
    "    return \" \". join(processed_tokens)"
   ]
  },
  {
   "cell_type": "code",
   "execution_count": 15,
   "metadata": {},
   "outputs": [
    {
     "name": "stdout",
     "output_type": "stream",
     "text": [
      "                                            Abstract  \\\n",
      "0  Aberrant activation of the Wnt/β-catenin signa...   \n",
      "1  Cancer cells can modulate the expression of ma...   \n",
      "2  Colorectal cancer (CRC) is a molecularly heter...   \n",
      "3  Ingenol mebutate (IM), a diterpene ester deriv...   \n",
      "4  Metastasis and chemoresistance are often major...   \n",
      "\n",
      "                                  Processed_abstract  \n",
      "0  aberrant activation wnt/-catenin signaling pat...  \n",
      "1  cancer cell modulate expression many protein e...  \n",
      "2  colorectal cancer crc molecularly heterogeneou...  \n",
      "3  ingenol mebutate im , diterpene ester derived ...  \n",
      "4  metastasis chemoresistance often major challen...  \n"
     ]
    }
   ],
   "source": [
    "# Apply preprocess\n",
    "df_data[\"Processed_abstract\"] = df_data[\"Abstract\"].apply(preprocess)\n",
    "# Check result\n",
    "print(df_data[[\"Abstract\", \"Processed_abstract\"]].head())\n",
    "# Save\n",
    "df_data.to_csv(\"preprocessed_data.csv\", index=False)"
   ]
  },
  {
   "cell_type": "markdown",
   "metadata": {},
   "source": [
    "4. Prepare training data"
   ]
  },
  {
   "cell_type": "code",
   "execution_count": 17,
   "metadata": {},
   "outputs": [],
   "source": [
    "df_final = pd.read_csv(\"preprocessed_data.csv\")\n",
    "# Tokenizer setup\n",
    "max_vocab_size = 15000\n",
    "max_sequence_length = 500\n",
    "tokenizer = Tokenizer(num_words=max_vocab_size, oov_token=\"<OOV>\")\n",
    "tokenizer.fit_on_texts(df_final[\"Processed_abstract\"])\n",
    "# Text to sequence and pad sequences for uniforming\n",
    "sequences = tokenizer.texts_to_sequences(df_final[\"Processed_abstract\"])\n",
    "padded_sequences = pad_sequences(sequences, maxlen=max_sequence_length, padding=\"post\", truncating=\"post\")"
   ]
  },
  {
   "cell_type": "code",
   "execution_count": 18,
   "metadata": {},
   "outputs": [
    {
     "name": "stdout",
     "output_type": "stream",
     "text": [
      "Train size: 103, Validation size: 13, Test size: 13\n"
     ]
    }
   ],
   "source": [
    "# Split data\n",
    "# Convert to array\n",
    "X = np.array(padded_sequences)\n",
    "# Split\n",
    "X_train, X_temp = train_test_split(X, test_size=0.2, random_state=42)\n",
    "X_val, X_test = train_test_split(X_temp, test_size=0.5, random_state=42)\n",
    "\n",
    "print(f\"Train size: {len(X_train)}, Validation size: {len(X_val)}, Test size: {len(X_test)}\")"
   ]
  },
  {
   "cell_type": "code",
   "execution_count": null,
   "metadata": {},
   "outputs": [],
   "source": [
    "pip install transformers datasets torch sentencepiece accelerate\n"
   ]
  }
 ],
 "metadata": {
  "kernelspec": {
   "display_name": "base",
   "language": "python",
   "name": "python3"
  },
  "language_info": {
   "codemirror_mode": {
    "name": "ipython",
    "version": 3
   },
   "file_extension": ".py",
   "mimetype": "text/x-python",
   "name": "python",
   "nbconvert_exporter": "python",
   "pygments_lexer": "ipython3",
   "version": "3.10.9"
  }
 },
 "nbformat": 4,
 "nbformat_minor": 2
}
